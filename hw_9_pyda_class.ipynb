{
 "cells": [
  {
   "cell_type": "markdown",
   "metadata": {},
   "source": [
    "# Задание 1\n",
    "Напишите функцию, которая возвращает название валюты (поле ‘Name’) с максимальным значением курса с помощью сервиса https://www.cbr-xml-daily.ru/daily_json.js"
   ]
  },
  {
   "cell_type": "code",
   "execution_count": 1,
   "metadata": {},
   "outputs": [
    {
     "name": "stdout",
     "output_type": "stream",
     "text": [
      "СДР (специальные права заимствования) 106.401\n"
     ]
    }
   ],
   "source": [
    "import requests\n",
    "class Cur:    \n",
    "    def ex_rates(self):\n",
    "        req = requests.get('https://www.cbr-xml-daily.ru/daily_json.js')\n",
    "        return req.json()['Valute']\n",
    "    \n",
    "    def max(self):\n",
    "        valute = self.ex_rates()\n",
    "        names = []\n",
    "        values = []\n",
    "        for k,v in valute.items():\n",
    "            for k1,v1 in v.items():\n",
    "                if k1 == \"Name\":\n",
    "                    names.append(v1)\n",
    "                if k1 == \"Value\":\n",
    "                    values.append(v1)\n",
    "        dict_ = dict(zip(names, values))\n",
    "        for x,y in dict_.items():\n",
    "            if y == max(values):\n",
    "                print(x,y)\n",
    "cur = Cur()\n",
    "cur.max()"
   ]
  },
  {
   "cell_type": "markdown",
   "metadata": {},
   "source": [
    "# Задание 2\n",
    "Добавьте в класс Rate параметр diff (со значениями True или False), который в случае значения True в методах курсов валют (eur, usd итд) будет возвращать не курс валюты, а изменение по сравнению в прошлым значением. Считайте, self.diff будет принимать значение True только при возврате значения курса. При отображении всей информации о валюте он не используется."
   ]
  },
  {
   "cell_type": "code",
   "execution_count": 2,
   "metadata": {},
   "outputs": [],
   "source": [
    "import requests\n",
    "class Rate:\n",
    "    def __init__(self, f = 'value', d = 'True'):\n",
    "        self.format = f\n",
    "        self.diff = d\n",
    "        \n",
    "    def ex_rates(self):\n",
    "        self.req = requests.get('https://www.cbr-xml-daily.ru/daily_json.js')\n",
    "        return self.req.json()['Valute']\n",
    "    \n",
    "    def format_(self, currency):\n",
    "        valute = self.ex_rates()\n",
    "        \n",
    "        if currency in valute:   \n",
    "            if self.format == 'full':\n",
    "                return valute[currency]\n",
    "            \n",
    "            if self.format == 'value':\n",
    "                if self.diff == 'True':\n",
    "                    return (valute[currency]['Previous'] - valute[currency]['Value'])\n",
    "                if self.diff == 'False':\n",
    "                    return valute[currency]['Value']\n",
    "                return 'Error'\n",
    "            return 'Error'\n",
    "        \n",
    "    def eur(self):\n",
    "        return self.format_('EUR')\n",
    "    \n",
    "    def usd(self):\n",
    "        return self.format_('USD')\n",
    "    \n",
    "    def brl(self):\n",
    "        return self.format_('BRL')"
   ]
  },
  {
   "cell_type": "code",
   "execution_count": 3,
   "metadata": {},
   "outputs": [
    {
     "data": {
      "text/plain": [
       "90.7932"
      ]
     },
     "execution_count": 3,
     "metadata": {},
     "output_type": "execute_result"
    }
   ],
   "source": [
    "r = Rate('value', 'False')\n",
    "r.eur()"
   ]
  },
  {
   "cell_type": "markdown",
   "metadata": {},
   "source": [
    "# Задание 3\n",
    "\n",
    "Напишите класс Designer, который учитывает количество международных премий для дизайнеров (из презентации: “Повышение на 1 грейд за каждые 7 баллов. Получение международной премии – это +2 балла”). Считайте, что при выходе на работу сотрудник уже имеет две премии и их количество не меняется со стажем"
   ]
  },
  {
   "cell_type": "code",
   "execution_count": 4,
   "metadata": {},
   "outputs": [],
   "source": [
    "import requests\n",
    "class Designer:\n",
    "    def __init__(self, n, p = 2, g = 0):\n",
    "        self.name = n\n",
    "        self.points = p\n",
    "        self.grade = g\n",
    "        \n",
    "    def award(self):\n",
    "        self.points += 2\n",
    "        self.grade = self.points // 7\n",
    "            \n",
    "    def info(self):\n",
    "        print('Имя:', self.name, 'Баллы:', self.points, 'Грейды:', self.grade)"
   ]
  },
  {
   "cell_type": "code",
   "execution_count": 5,
   "metadata": {},
   "outputs": [],
   "source": [
    "Oleg = Designer('Олег')\n",
    "Anna = Designer('Анна')\n",
    "Leonid = Designer('Леонид')"
   ]
  },
  {
   "cell_type": "code",
   "execution_count": 6,
   "metadata": {},
   "outputs": [
    {
     "name": "stdout",
     "output_type": "stream",
     "text": [
      "Имя: Леонид Баллы: 2 Грейды: 0\n"
     ]
    }
   ],
   "source": [
    "Leonid.info()"
   ]
  },
  {
   "cell_type": "code",
   "execution_count": 7,
   "metadata": {},
   "outputs": [],
   "source": [
    "Leonid.award()"
   ]
  }
 ],
 "metadata": {
  "kernelspec": {
   "display_name": "Python 3",
   "language": "python",
   "name": "python3"
  },
  "language_info": {
   "codemirror_mode": {
    "name": "ipython",
    "version": 3
   },
   "file_extension": ".py",
   "mimetype": "text/x-python",
   "name": "python",
   "nbconvert_exporter": "python",
   "pygments_lexer": "ipython3",
   "version": "3.8.3"
  }
 },
 "nbformat": 4,
 "nbformat_minor": 4
}
